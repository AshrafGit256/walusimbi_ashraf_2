{
 "cells": [
  {
   "cell_type": "code",
   "execution_count": 1,
   "id": "d409f62d",
   "metadata": {},
   "outputs": [],
   "source": [
    "file = open(\"Ash.txt\",\"r\")"
   ]
  },
  {
   "cell_type": "code",
   "execution_count": 5,
   "id": "59e06ab8",
   "metadata": {},
   "outputs": [
    {
     "name": "stdout",
     "output_type": "stream",
     "text": [
      "Working with text files\n"
     ]
    }
   ],
   "source": [
    "content = file.read()\n",
    "\n",
    "print(content)\n",
    "\n",
    "file.close()"
   ]
  },
  {
   "cell_type": "code",
   "execution_count": null,
   "id": "e708af2a",
   "metadata": {},
   "outputs": [],
   "source": [
    "with open(\"Ashr.text\", \"w\") as file:\n",
    "    file.write(\"Welcome to file writing\")"
   ]
  },
  {
   "cell_type": "code",
   "execution_count": 10,
   "id": "82a1479f",
   "metadata": {},
   "outputs": [
    {
     "name": "stdout",
     "output_type": "stream",
     "text": [
      "Welcome to file writing\n",
      "This file has been appended\n",
      "This file has been appended\n"
     ]
    }
   ],
   "source": [
    "with open(\"Ashr.text\", \"a\") as file:\n",
    "    file.write(\"\\nThis file has been appended\")\n",
    "    \n",
    "with open(\"Ashr.text\", \"r\") as file:\n",
    "    content = file.read()\n",
    "    print(content)"
   ]
  }
 ],
 "metadata": {
  "kernelspec": {
   "display_name": "Python 3",
   "language": "python",
   "name": "python3"
  },
  "language_info": {
   "codemirror_mode": {
    "name": "ipython",
    "version": 3
   },
   "file_extension": ".py",
   "mimetype": "text/x-python",
   "name": "python",
   "nbconvert_exporter": "python",
   "pygments_lexer": "ipython3",
   "version": "3.12.6"
  }
 },
 "nbformat": 4,
 "nbformat_minor": 5
}
