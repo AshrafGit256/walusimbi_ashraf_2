{
 "cells": [
  {
   "cell_type": "code",
   "execution_count": null,
   "id": "0ef33661",
   "metadata": {},
   "outputs": [],
   "source": [
    "import pandas as pd\n",
    "import numpy as np\n",
    "import matplotlib.pyplot as plt\n",
    "import seaborn as sns\n",
    "from datetime import datetime"
   ]
  },
  {
   "cell_type": "code",
   "execution_count": 4,
   "id": "9b8d03b6",
   "metadata": {},
   "outputs": [],
   "source": [
    "df = pd.read_csv('forex_predictions_data.csv')"
   ]
  },
  {
   "cell_type": "code",
   "execution_count": 5,
   "id": "cd4551a4",
   "metadata": {},
   "outputs": [
    {
     "data": {
      "text/html": [
       "<div>\n",
       "<style scoped>\n",
       "    .dataframe tbody tr th:only-of-type {\n",
       "        vertical-align: middle;\n",
       "    }\n",
       "\n",
       "    .dataframe tbody tr th {\n",
       "        vertical-align: top;\n",
       "    }\n",
       "\n",
       "    .dataframe thead th {\n",
       "        text-align: right;\n",
       "    }\n",
       "</style>\n",
       "<table border=\"1\" class=\"dataframe\">\n",
       "  <thead>\n",
       "    <tr style=\"text-align: right;\">\n",
       "      <th></th>\n",
       "      <th>Date</th>\n",
       "      <th>Open</th>\n",
       "      <th>High</th>\n",
       "      <th>Low</th>\n",
       "      <th>Close</th>\n",
       "      <th>Volume</th>\n",
       "      <th>Predicted_Close</th>\n",
       "      <th>Currency_Pair</th>\n",
       "      <th>Signal</th>\n",
       "      <th>Confidence</th>\n",
       "    </tr>\n",
       "  </thead>\n",
       "  <tbody>\n",
       "    <tr>\n",
       "      <th>0</th>\n",
       "      <td>2024-01-01</td>\n",
       "      <td>1.18727</td>\n",
       "      <td>1.92461</td>\n",
       "      <td>0.85312</td>\n",
       "      <td>1.18154</td>\n",
       "      <td>2201</td>\n",
       "      <td>1.22984</td>\n",
       "      <td>EUR/USD</td>\n",
       "      <td>Hold</td>\n",
       "      <td>0.90</td>\n",
       "    </tr>\n",
       "    <tr>\n",
       "      <th>1</th>\n",
       "      <td>2024-01-02</td>\n",
       "      <td>1.47536</td>\n",
       "      <td>1.82881</td>\n",
       "      <td>0.54067</td>\n",
       "      <td>1.32296</td>\n",
       "      <td>error</td>\n",
       "      <td>1.03797</td>\n",
       "      <td>EUR/USD</td>\n",
       "      <td>Sell</td>\n",
       "      <td>NaN</td>\n",
       "    </tr>\n",
       "    <tr>\n",
       "      <th>2</th>\n",
       "      <td>2024-01-03</td>\n",
       "      <td>1.36600</td>\n",
       "      <td>1.78415</td>\n",
       "      <td>0.54242</td>\n",
       "      <td>1.28539</td>\n",
       "      <td>4420</td>\n",
       "      <td>1.03888</td>\n",
       "      <td>EUR/USD</td>\n",
       "      <td>Sell</td>\n",
       "      <td>NaN</td>\n",
       "    </tr>\n",
       "    <tr>\n",
       "      <th>3</th>\n",
       "      <td>2024-01-04</td>\n",
       "      <td>1.29933</td>\n",
       "      <td>1.54684</td>\n",
       "      <td>0.99332</td>\n",
       "      <td>1.17805</td>\n",
       "      <td>4079</td>\n",
       "      <td>1.00117</td>\n",
       "      <td>EUR/USD</td>\n",
       "      <td>Sell</td>\n",
       "      <td>0.64</td>\n",
       "    </tr>\n",
       "    <tr>\n",
       "      <th>4</th>\n",
       "      <td>2024-01-05</td>\n",
       "      <td>1.07801</td>\n",
       "      <td>1.68386</td>\n",
       "      <td>0.68714</td>\n",
       "      <td>NaN</td>\n",
       "      <td>1832</td>\n",
       "      <td>1.48385</td>\n",
       "      <td>EUR/USD</td>\n",
       "      <td>Sell</td>\n",
       "      <td>0.68</td>\n",
       "    </tr>\n",
       "  </tbody>\n",
       "</table>\n",
       "</div>"
      ],
      "text/plain": [
       "         Date     Open     High      Low    Close Volume  Predicted_Close  \\\n",
       "0  2024-01-01  1.18727  1.92461  0.85312  1.18154   2201          1.22984   \n",
       "1  2024-01-02  1.47536  1.82881  0.54067  1.32296  error          1.03797   \n",
       "2  2024-01-03  1.36600  1.78415  0.54242  1.28539   4420          1.03888   \n",
       "3  2024-01-04  1.29933  1.54684  0.99332  1.17805   4079          1.00117   \n",
       "4  2024-01-05  1.07801  1.68386  0.68714      NaN   1832          1.48385   \n",
       "\n",
       "  Currency_Pair Signal  Confidence  \n",
       "0       EUR/USD   Hold        0.90  \n",
       "1       EUR/USD   Sell         NaN  \n",
       "2       EUR/USD   Sell         NaN  \n",
       "3       EUR/USD   Sell        0.64  \n",
       "4       EUR/USD   Sell        0.68  "
      ]
     },
     "execution_count": 5,
     "metadata": {},
     "output_type": "execute_result"
    }
   ],
   "source": [
    "df.head(5)"
   ]
  },
  {
   "cell_type": "code",
   "execution_count": 6,
   "id": "7763fedf",
   "metadata": {},
   "outputs": [
    {
     "name": "stdout",
     "output_type": "stream",
     "text": [
      "<class 'pandas.core.frame.DataFrame'>\n",
      "RangeIndex: 229 entries, 0 to 228\n",
      "Data columns (total 10 columns):\n",
      " #   Column           Non-Null Count  Dtype  \n",
      "---  ------           --------------  -----  \n",
      " 0   Date             226 non-null    object \n",
      " 1   Open             224 non-null    float64\n",
      " 2   High             220 non-null    float64\n",
      " 3   Low              225 non-null    float64\n",
      " 4   Close            212 non-null    float64\n",
      " 5   Volume           226 non-null    object \n",
      " 6   Predicted_Close  222 non-null    float64\n",
      " 7   Currency_Pair    229 non-null    object \n",
      " 8   Signal           227 non-null    object \n",
      " 9   Confidence       218 non-null    float64\n",
      "dtypes: float64(6), object(4)\n",
      "memory usage: 18.0+ KB\n"
     ]
    }
   ],
   "source": [
    "df.info()"
   ]
  },
  {
   "cell_type": "code",
   "execution_count": 7,
   "id": "c9ddcb41",
   "metadata": {},
   "outputs": [
    {
     "data": {
      "text/plain": [
       "(229, 10)"
      ]
     },
     "execution_count": 7,
     "metadata": {},
     "output_type": "execute_result"
    }
   ],
   "source": [
    "df.shape"
   ]
  },
  {
   "cell_type": "code",
   "execution_count": 8,
   "id": "9cdce96b",
   "metadata": {},
   "outputs": [
    {
     "name": "stdout",
     "output_type": "stream",
     "text": [
      "Date                3\n",
      "Open                5\n",
      "High                9\n",
      "Low                 4\n",
      "Close              17\n",
      "Volume              3\n",
      "Predicted_Close     7\n",
      "Currency_Pair       0\n",
      "Signal              2\n",
      "Confidence         11\n",
      "dtype: int64\n"
     ]
    }
   ],
   "source": [
    "print(df.isnull().sum())"
   ]
  },
  {
   "cell_type": "code",
   "execution_count": 14,
   "id": "3eff1734",
   "metadata": {},
   "outputs": [
    {
     "name": "stdout",
     "output_type": "stream",
     "text": [
      "Missing values after handling:\n",
      "Date               3\n",
      "Open               0\n",
      "High               0\n",
      "Low                0\n",
      "Close              0\n",
      "Volume             0\n",
      "Predicted_Close    0\n",
      "Currency_Pair      0\n",
      "Signal             0\n",
      "Confidence         0\n",
      "dtype: int64\n"
     ]
    },
    {
     "name": "stderr",
     "output_type": "stream",
     "text": [
      "C:\\Users\\User\\AppData\\Local\\Temp\\ipykernel_12236\\2205484548.py:9: FutureWarning: A value is trying to be set on a copy of a DataFrame or Series through chained assignment using an inplace method.\n",
      "The behavior will change in pandas 3.0. This inplace method will never work because the intermediate object on which we are setting values always behaves as a copy.\n",
      "\n",
      "For example, when doing 'df[col].method(value, inplace=True)', try using 'df.method({col: value}, inplace=True)' or df[col] = df[col].method(value) instead, to perform the operation inplace on the original object.\n",
      "\n",
      "\n",
      "  df[col].fillna(df[col].mean(), inplace=True)\n"
     ]
    }
   ],
   "source": [
    "# Handle missing values\n",
    "# Gender F, M , Code numeric F = 0, M = 1\n",
    "#For numerical columns , we fill the missing values using the mean or median\n",
    "numeric_cols = ['Open', 'High', 'Low', 'Close', 'Volume', 'Predicted_Close', 'Confidence']\n",
    "for col in numeric_cols:\n",
    "    if col in df.columns:\n",
    "        df[col] = pd.to_numeric(df[col], errors='coerce') #Convert to numeric , coercing errors to NaN\n",
    "        # ill NaN values with the mean column\n",
    "        df[col].fillna(df[col].mean(), inplace=True)\n",
    "        \n",
    "# Check again for missing values\n",
    "categorical_cols = ['Signal']\n",
    "for col in categorical_cols:\n",
    "    if col in df.columns:\n",
    "        df[col] = df[col].fillna(df[col].mode()[0])\n",
    "        \n",
    "print(\"Missing values after handling:\")\n",
    "print(df.isnull().sum())"
   ]
  },
  {
   "cell_type": "code",
   "execution_count": null,
   "id": "a3db6622",
   "metadata": {},
   "outputs": [],
   "source": [
    "#Convert date column to datetime format\n",
    "df['Date'] = pd.to_datetime(df['Date'], errors = 'coerce')\n",
    "\n",
    "# Handle volume columns with error values\n",
    "df['Volume'] = pd.to_numeric(df['Volume'], errors = 'coerce')\n",
    "df['Volume'] = df['Volume'].fillna(df['Volume'].median())\n",
    "\n",
    "#Clean the confidence column\n",
    "df['Confidence'] = pd.to_numeric(df['Confidence'], errors = 'coerce')\n",
    "df['Confidence'] = df['Confidence'].fillna(df['Confidence'].median())\n",
    "\n",
    "#Check the dates column for any invalid dates\n",
    "invalid_dates = df[df['Date'].apply(lambda x: isinstance(x, datetime))]\n",
    "if not invalid_dates.empty:\n",
    "    print(\"Invalid dates found\")\n",
    "    print(invalid_dates)\n",
    "    \n",
    "#Remove duplicates\n",
    "df.drop_duplicates(inplace=True)\n",
    "\n",
    "#Check for duplicates\n",
    "duplicates_count = df.duplicated().sum()\n",
    "print(f\"Number of duplicate rows: {duplicates_count}\")\n",
    "\n",
    "#Remove duplicates\n",
    "if duplicates_count > 0:\n",
    "    df.drop_duplicates(inplace=True)\n",
    "    print(\"Duplicates removed\")\n",
    "else:\n",
    "    print(\"No duplicates found.\")\n",
    "    \n",
    "#Outliers\n",
    "#Visualize outliers using boxplots\n",
    "plt.figure(figsize=(12,6))\n",
    "sns.boxplot(data=df[numeric_cols])\n",
    "plt.title('Boxplot of numerical Columns')"
   ]
  },
  {
   "cell_type": "code",
   "execution_count": 16,
   "id": "fd01d259",
   "metadata": {},
   "outputs": [
    {
     "ename": "SyntaxError",
     "evalue": "invalid syntax. Perhaps you forgot a comma? (3370345095.py, line 1)",
     "output_type": "error",
     "traceback": [
      "  \u001b[36mCell\u001b[39m\u001b[36m \u001b[39m\u001b[32mIn[16]\u001b[39m\u001b[32m, line 1\u001b[39m\n\u001b[31m    \u001b[39m\u001b[31mprint('Number of duplicates: 'df.duplicated().sum())\u001b[39m\n          ^\n\u001b[31mSyntaxError\u001b[39m\u001b[31m:\u001b[39m invalid syntax. Perhaps you forgot a comma?\n"
     ]
    }
   ],
   "source": [
    "print('Number of duplicates: 'df.duplicated().sum())"
   ]
  },
  {
   "cell_type": "code",
   "execution_count": null,
   "id": "d1d00774",
   "metadata": {},
   "outputs": [],
   "source": [
    "# Wrong Data Types\n",
    "price_cols = ['Open', 'High', 'Low', 'Close', 'Predicted_Close']\n",
    "for col in price_cols:\n",
    "    if col in df.columns\""
   ]
  }
 ],
 "metadata": {
  "kernelspec": {
   "display_name": "Python 3",
   "language": "python",
   "name": "python3"
  },
  "language_info": {
   "codemirror_mode": {
    "name": "ipython",
    "version": 3
   },
   "file_extension": ".py",
   "mimetype": "text/x-python",
   "name": "python",
   "nbconvert_exporter": "python",
   "pygments_lexer": "ipython3",
   "version": "3.12.6"
  }
 },
 "nbformat": 4,
 "nbformat_minor": 5
}
